{
 "cells": [
  {
   "cell_type": "code",
   "execution_count": 1,
   "id": "841e9e3d-6bf8-477c-a847-386817e1df5b",
   "metadata": {},
   "outputs": [],
   "source": [
    "from Bio.Seq import Seq\n",
    "import numpy\n",
    "import math\n",
    "from Bio.SeqUtils import GC"
   ]
  },
  {
   "cell_type": "code",
   "execution_count": 2,
   "id": "feaede7e-17f9-47b7-a937-424d3cd0d1a0",
   "metadata": {},
   "outputs": [
    {
     "name": "stdin",
     "output_type": "stream",
     "text": [
      "Your target sequence gtcagtactgcatggcggcacaatgctagctagctagctgaaaaaatgctagcatgcatcgatgtgggggtatatccccatgtggggatcacgatcgactagctacgtggggatatacgcgagctgatggtatatatattttgggctatagccccatgtgtgaaaggggccc\n",
      "Concentration of the primers in uM (for example 0.5) 0.5\n",
      "Concentration of NaCl in M (for example 0.05) 0.05\n",
      "The desired length of the primers (note: if your primer is shorter than 14 bp this calculation is not reliable) 20\n"
     ]
    }
   ],
   "source": [
    "my_seq=Seq(input(\"Your target sequence\"))\n",
    "C_primer=float(input(\"Concentration of the primers in uM (for example 0.5)\"))\n",
    "C_salt=float(input(\"Concentration of NaCl in M (for example 0.05)\"))\n",
    "my_seq=my_seq.upper()\n",
    "primer_length=int(input('The desired length of the primers (note: if your primer is shorter than 14 bp this calculation is not reliable)'))"
   ]
  },
  {
   "cell_type": "code",
   "execution_count": 3,
   "id": "3334b2f3-ffc1-427f-9bc8-8b5616ba93f6",
   "metadata": {},
   "outputs": [
    {
     "name": "stdout",
     "output_type": "stream",
     "text": [
      "GTCAGTACTGCATGGCGGCA\n",
      "GGGCCCCTTTCACACATGGG\n"
     ]
    }
   ],
   "source": [
    "Forw_primer=my_seq[0:primer_length]\n",
    "rev_primer_temp=my_seq[(-primer_length):]\n",
    "rev_primer=rev_primer_temp.reverse_complement()\n",
    "print(Forw_primer)\n",
    "print(rev_primer)"
   ]
  },
  {
   "cell_type": "code",
   "execution_count": 4,
   "id": "eecbdc54-8392-4726-af58-d842c361c3ed",
   "metadata": {},
   "outputs": [
    {
     "data": {
      "text/plain": [
       "172"
      ]
     },
     "execution_count": 4,
     "metadata": {},
     "output_type": "execute_result"
    }
   ],
   "source": [
    "seq_length=len(my_seq)\n",
    "seq_length"
   ]
  },
  {
   "cell_type": "code",
   "execution_count": 5,
   "id": "1bcfeedb-f6af-48c1-a0e7-9ba9d8b78fc0",
   "metadata": {},
   "outputs": [],
   "source": [
    "dH_fwd=0\n",
    "dS_fwd=-10.8\n",
    "R=1.99\n",
    "for i in range(0,len(Forw_primer)):\n",
    "    if i == (len(Forw_primer)-1):\n",
    "        pass\n",
    "    else:\n",
    "        if Forw_primer[i]=='A':\n",
    "            if Forw_primer[i+1]=='A':\n",
    "                dH_fwd+= -9.1\n",
    "                dS_fwd+= -24\n",
    "            elif Forw_primer[i+1]=='C':\n",
    "                dH_fwd+= -6.5\n",
    "                dS_fwd+= -17.3\n",
    "            elif Forw_primer[i+1]=='T':\n",
    "                dH_fwd+= -8.6\n",
    "                dS_fwd+= -23.9\n",
    "            else:\n",
    "                dH_fwd+= -7.8\n",
    "                dS_fwd+= -20.8\n",
    "        elif Forw_primer[i]=='C':\n",
    "            if Forw_primer[i+1]=='A':\n",
    "                dH_fwd+= -5.8\n",
    "                dS_fwd+= -12.9\n",
    "            elif Forw_primer[i+1]=='C':\n",
    "                dH_fwd+= -11\n",
    "                dS_fwd+= -26.6\n",
    "            elif Forw_primer[i+1]=='T':\n",
    "                dH_fwd+= -7.8\n",
    "                dS_fwd+= -20.8\n",
    "            else:\n",
    "                dH_fwd+= -11.9\n",
    "                dS_fwd+= -27.8\n",
    "        elif Forw_primer[i]=='T':\n",
    "            if Forw_primer[i+1]=='A':\n",
    "                dH_fwd+= -6\n",
    "                dS_fwd+= -16.9\n",
    "            elif Forw_primer[i+1]=='C':\n",
    "                dH_fwd+= -5.6\n",
    "                dS_fwd+= -13.5\n",
    "            elif Forw_primer[i+1]=='T':\n",
    "                dH_fwd+= -9.1\n",
    "                dS_fwd+= -24\n",
    "            else:\n",
    "                dH_fwd+= -5.8\n",
    "                dS_fwd+= -12.9\n",
    "        else:\n",
    "            if Forw_primer[i+1]=='A':\n",
    "                dH_fwd+= -5.6\n",
    "                dS_fwd+= -13.5\n",
    "            elif Forw_primer[i+1]=='C':\n",
    "                dH_fwd+= -11.1\n",
    "                dS_fwd+= -26.7\n",
    "            elif Forw_primer[i+1]=='T':\n",
    "                dH_fwd+= -6.5\n",
    "                dS_fwd+= -17.3\n",
    "            else:\n",
    "                dH_fwd+= -11\n",
    "                dS_fwd+= -26.6\n",
    "dH_fwd=dH_fwd*1000"
   ]
  },
  {
   "cell_type": "code",
   "execution_count": 6,
   "id": "65992c29-701b-43e4-a1f7-c598e1551de2",
   "metadata": {},
   "outputs": [],
   "source": [
    "dH_rev=0\n",
    "dS_rev=-10.8\n",
    "for i in range(0,len(rev_primer)):\n",
    "    if i == (len(rev_primer)-1):\n",
    "        pass\n",
    "    else:\n",
    "        if rev_primer[i]=='A':\n",
    "            if rev_primer[i+1]=='A':\n",
    "                dH_rev+= -9.1\n",
    "                dS_rev+= -24\n",
    "            elif rev_primer[i+1]=='C':\n",
    "                dH_rev+= -6.5\n",
    "                dS_rev+= -17.3\n",
    "            elif rev_primer[i+1]=='T':\n",
    "                dH_rev+= -8.6\n",
    "                dS_rev+= -23.9\n",
    "            else:\n",
    "                dH_rev+= -7.8\n",
    "                dS_rev+= -20.8\n",
    "        elif rev_primer[i]=='C':\n",
    "            if rev_primer[i+1]=='A':\n",
    "                dH_rev+= -5.8\n",
    "                dS_rev+= -12.9\n",
    "            elif rev_primer[i+1]=='C':\n",
    "                dH_rev+= -11\n",
    "                dS_rev+= -26.6\n",
    "            elif rev_primer[i+1]=='T':\n",
    "                dH_rev+= -7.8\n",
    "                dS_rev+= -20.8\n",
    "            else:\n",
    "                dH_rev+= -11.9\n",
    "                dS_rev+= -27.8\n",
    "        elif rev_primer[i]=='T':\n",
    "            if rev_primer[i+1]=='A':\n",
    "                dH_rev+= -6\n",
    "                dS_rev+= -16.9\n",
    "            elif rev_primer[i+1]=='C':\n",
    "                dH_rev+= -5.6\n",
    "                dS_rev+= -13.5\n",
    "            elif rev_primer[i+1]=='T':\n",
    "                dH_rev+= -9.1\n",
    "                dS_rev+= -24\n",
    "            else:\n",
    "                dH_rev+= -5.8\n",
    "                dS_rev+= -12.9\n",
    "        else:\n",
    "            if rev_primer[i+1]=='A':\n",
    "                dH_rev+= -5.6\n",
    "                dS_rev+= -13.5\n",
    "            elif rev_primer[i+1]=='C':\n",
    "                dH_rev+= -11.1\n",
    "                dS_rev+= -26.7\n",
    "            elif rev_primer[i+1]=='T':\n",
    "                dH_rev+= -6.5\n",
    "                dS_rev+= -17.3\n",
    "            else:\n",
    "                dH_rev+= -11\n",
    "                dS_rev+= -26.6\n",
    "dH_rev=dH_rev*1000"
   ]
  },
  {
   "cell_type": "code",
   "execution_count": 7,
   "id": "cb1e578b-28e1-441c-b73e-31b12169729c",
   "metadata": {},
   "outputs": [],
   "source": [
    "c_term=R*math.log((C_primer*10**-6)/4)"
   ]
  },
  {
   "cell_type": "code",
   "execution_count": 8,
   "id": "b5b1d0cd-2080-4033-8434-2aa41f9f52b6",
   "metadata": {},
   "outputs": [],
   "source": [
    "Tm_fwd=(dH_fwd/(dS_fwd+c_term))-273.15+(16.6*math.log10(C_salt))\n",
    "Tm_rev=(dH_rev/(dS_rev+c_term))-273.15+(16.6*math.log10(C_salt))"
   ]
  },
  {
   "cell_type": "code",
   "execution_count": 9,
   "id": "d4de0e59-c9c2-4ba0-af96-6ef7b12ce564",
   "metadata": {},
   "outputs": [
    {
     "name": "stdout",
     "output_type": "stream",
     "text": [
      "69.58364343587704\n",
      "72.66104814978974\n"
     ]
    }
   ],
   "source": [
    "print(Tm_fwd)\n",
    "print(Tm_rev)"
   ]
  },
  {
   "cell_type": "code",
   "execution_count": null,
   "id": "f7ba8ecd-e484-4344-89c7-fd7823522aa5",
   "metadata": {},
   "outputs": [],
   "source": []
  }
 ],
 "metadata": {
  "kernelspec": {
   "display_name": "Python 3 (ipykernel)",
   "language": "python",
   "name": "python3"
  },
  "language_info": {
   "codemirror_mode": {
    "name": "ipython",
    "version": 3
   },
   "file_extension": ".py",
   "mimetype": "text/x-python",
   "name": "python",
   "nbconvert_exporter": "python",
   "pygments_lexer": "ipython3",
   "version": "3.9.12"
  }
 },
 "nbformat": 4,
 "nbformat_minor": 5
}
