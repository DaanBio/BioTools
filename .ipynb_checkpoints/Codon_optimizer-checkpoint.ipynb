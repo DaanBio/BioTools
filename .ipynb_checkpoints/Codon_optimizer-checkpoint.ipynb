{
 "cells": [
  {
   "cell_type": "code",
   "execution_count": 3,
   "id": "5834715b",
   "metadata": {},
   "outputs": [],
   "source": [
    "import numpy as np\n",
    "import pandas as pd\n",
    "from Bio.Seq import Seq\n",
    "import math\n",
    "from Bio.SeqUtils import GC"
   ]
  },
  {
   "cell_type": "code",
   "execution_count": 21,
   "id": "6138d382-d560-4f2c-aaf4-d0da3af9846c",
   "metadata": {},
   "outputs": [
    {
     "name": "stdin",
     "output_type": "stream",
     "text": [
      "Your sequence atgctgtctgtctgtctggggttccccttg\n"
     ]
    }
   ],
   "source": [
    "my_seq=Seq(input(\"Your sequence\"))"
   ]
  },
  {
   "cell_type": "code",
   "execution_count": 193,
   "id": "e1a8c491",
   "metadata": {},
   "outputs": [],
   "source": [
    "df = pd.read_csv(\"pages/Files/Scerevisiae_codon.txt\", header=None, delim_whitespace=True)\n",
    "df1=df.iloc[:, : 5]\n",
    "df2=df.iloc[:, 5:10]\n",
    "df3=df.iloc[:, 10:15]\n",
    "df4=df.iloc[:, 15:]\n",
    "df2.columns = df1.columns\n",
    "df3.columns = df1.columns\n",
    "df4.columns = df1.columns\n",
    "df_combined = pd.concat([df1, df2, df3,df4], axis=0, ignore_index=True)\n",
    "df=df_combined.iloc[:, : 3]\n",
    "df = df[df[2] >= 0.1]\n",
    "AA_sum=[]\n",
    "for i in df[1].unique():\n",
    "    AA_sum.append(df.loc[df[1] == i, 2].sum())\n",
    "test=df[1].unique()\n",
    "sumlist=test.tolist()\n",
    "data= {'AA':sumlist,'sum':AA_sum}\n",
    "df2=pd.DataFrame(data) \n",
    "df.columns = ['Codon', 'AA', 'perc']\n",
    "df=df.reset_index(drop=True, inplace=False)\n",
    "df=pd.merge(df, df2) \n",
    "df['real_value']=df['perc']/df['sum']\n",
    "dfs = dict(tuple(df.groupby('AA')))\n",
    "AA_F = dfs['F']\n",
    "AA_F=AA_F.sort_values('real_value', ascending=False)\n",
    "AA_F=AA_F.reset_index(drop=True, inplace=False)\n",
    "AA_L = dfs['L']\n",
    "AA_L=AA_L.sort_values('real_value', ascending=False)\n",
    "AA_L=AA_L.reset_index(drop=True, inplace=False)\n",
    "AA_I = dfs['I']\n",
    "AA_I=AA_I.sort_values('real_value', ascending=False)\n",
    "AA_I=AA_I.reset_index(drop=True, inplace=False)\n",
    "AA_M = dfs['M']\n",
    "AA_M=AA_M.sort_values('real_value', ascending=False)\n",
    "AA_M=AA_M.reset_index(drop=True, inplace=False)\n",
    "AA_V = dfs['V']\n",
    "AA_V=AA_V.sort_values('real_value', ascending=False)\n",
    "AA_V=AA_V.reset_index(drop=True, inplace=False)\n",
    "AA_Y = dfs['Y']\n",
    "AA_Y=AA_Y.sort_values('real_value', ascending=False)\n",
    "AA_Y=AA_Y.reset_index(drop=True, inplace=False)\n",
    "AA_P = dfs['P']\n",
    "AA_P=AA_P.sort_values('real_value', ascending=False)\n",
    "AA_P=AA_P.reset_index(drop=True, inplace=False)\n",
    "AA_T = dfs['T']\n",
    "AA_T=AA_T.sort_values('real_value', ascending=False)\n",
    "AA_T=AA_T.reset_index(drop=True, inplace=False)\n",
    "AA_A = dfs['A']\n",
    "AA_A=AA_A.sort_values('real_value', ascending=False)\n",
    "AA_A=AA_A.reset_index(drop=True, inplace=False)\n",
    "AA_AS = dfs['*']\n",
    "AA_AS=AA_AS.sort_values('real_value', ascending=False)\n",
    "AA_AS=AA_AS.reset_index(drop=True, inplace=False)\n",
    "AA_H = dfs['H']\n",
    "AA_H=AA_H.sort_values('real_value', ascending=False)\n",
    "AA_H=AA_H.reset_index(drop=True, inplace=False)\n",
    "AA_Q = dfs['Q']\n",
    "AA_Q=AA_Q.sort_values('real_value', ascending=False)\n",
    "AA_Q=AA_Q.reset_index(drop=True, inplace=False)\n",
    "AA_N = dfs['N']\n",
    "AA_N=AA_N.sort_values('real_value', ascending=False)\n",
    "AA_N=AA_N.reset_index(drop=True, inplace=False)\n",
    "AA_K = dfs['K']\n",
    "AA_K=AA_K.sort_values('real_value', ascending=False)\n",
    "AA_K=AA_K.reset_index(drop=True, inplace=False)\n",
    "AA_D = dfs['D']\n",
    "AA_D=AA_D.sort_values('real_value', ascending=False)\n",
    "AA_D=AA_D.reset_index(drop=True, inplace=False)\n",
    "AA_E = dfs['E']\n",
    "AA_E=AA_E.sort_values('real_value', ascending=False)\n",
    "AA_E=AA_E.reset_index(drop=True, inplace=False)\n",
    "AA_C = dfs['C']\n",
    "AA_C=AA_C.sort_values('real_value', ascending=False)\n",
    "AA_C=AA_C.reset_index(drop=True, inplace=False)\n",
    "AA_W = dfs['W']\n",
    "AA_W=AA_W.sort_values('real_value', ascending=False)\n",
    "AA_W=AA_W.reset_index(drop=True, inplace=False)\n",
    "AA_R = dfs['R']\n",
    "AA_R=AA_R.sort_values('real_value', ascending=False)\n",
    "AA_R=AA_R.reset_index(drop=True, inplace=False)\n",
    "AA_S = dfs['S']\n",
    "AA_S=AA_S.sort_values('real_value', ascending=False)\n",
    "AA_S=AA_S.reset_index(drop=True, inplace=False)\n",
    "AA_G = dfs['G']\n",
    "AA_G=AA_G.sort_values('real_value', ascending=False)\n",
    "AA_G=AA_G.reset_index(drop=True, inplace=False)\n",
    "# df.head(60)"
   ]
  },
  {
   "cell_type": "code",
   "execution_count": 194,
   "id": "14072fc6-c301-4be1-bdc0-b2490e928887",
   "metadata": {},
   "outputs": [
    {
     "data": {
      "text/plain": [
       "Seq('MLSVCLGFPL')"
      ]
     },
     "execution_count": 194,
     "metadata": {},
     "output_type": "execute_result"
    }
   ],
   "source": [
    "my_seq_AA=my_seq.translate()\n",
    "my_seq_AA"
   ]
  },
  {
   "cell_type": "code",
   "execution_count": 199,
   "id": "ba6f15f0-1660-4bbb-a574-e20f2c47c52a",
   "metadata": {},
   "outputs": [
    {
     "data": {
      "text/plain": [
       "Seq('GCU')"
      ]
     },
     "execution_count": 199,
     "metadata": {},
     "output_type": "execute_result"
    }
   ],
   "source": [
    "Codon_opt_seq=Seq('')\n",
    "for i in my_seq_AA:\n",
    "    if i=='M':\n",
    "        x=np.random.random(1)[0]\n",
    "        if x<=AA_M.real_value[0]:\n",
    "            Codon_opt_seq+=Seq('AUG')\n",
    "        else:\n",
    "            pass\n",
    "    elif i=='A':\n",
    "        x=np.random.random(1)[0]\n",
    "        if x<=AA_A.real_value[0]:\n",
    "            Codon_opt_seq+=Seq('GCU')\n",
    "        elif x>=AA_A.real_value[0] and x<=(AA_A.real_value[0]+AA_A.real_value[1]):\n",
    "            Codon_opt_seq+=Seq('GCA')\n",
    "        elif x>=AA_A.real_value[0] and x<=(AA_A.real_value[0]+AA_A.real_value[1]):\n",
    "            Codon_opt_seq+=Seq('GCA')\n",
    "        else:\n",
    "            pass    \n",
    "    else:\n",
    "        pass\n",
    "Codon_opt_seq"
   ]
  },
  {
   "cell_type": "code",
   "execution_count": 166,
   "id": "56aac0d7-b84c-4904-8d15-00ee092b487b",
   "metadata": {},
   "outputs": [
    {
     "name": "stdout",
     "output_type": "stream",
     "text": [
      "0.7413945875114809\n"
     ]
    }
   ],
   "source": [
    "x=np.random.random(1)[0]\n",
    "print(x)"
   ]
  },
  {
   "cell_type": "code",
   "execution_count": 202,
   "id": "1a42ae92-1453-44b3-9924-e75d9c0dbf38",
   "metadata": {},
   "outputs": [
    {
     "data": {
      "text/html": [
       "<div>\n",
       "<style scoped>\n",
       "    .dataframe tbody tr th:only-of-type {\n",
       "        vertical-align: middle;\n",
       "    }\n",
       "\n",
       "    .dataframe tbody tr th {\n",
       "        vertical-align: top;\n",
       "    }\n",
       "\n",
       "    .dataframe thead th {\n",
       "        text-align: right;\n",
       "    }\n",
       "</style>\n",
       "<table border=\"1\" class=\"dataframe\">\n",
       "  <thead>\n",
       "    <tr style=\"text-align: right;\">\n",
       "      <th></th>\n",
       "      <th>Codon</th>\n",
       "      <th>AA</th>\n",
       "      <th>perc</th>\n",
       "      <th>sum</th>\n",
       "      <th>real_value</th>\n",
       "    </tr>\n",
       "  </thead>\n",
       "  <tbody>\n",
       "    <tr>\n",
       "      <th>0</th>\n",
       "      <td>GCU</td>\n",
       "      <td>A</td>\n",
       "      <td>0.38</td>\n",
       "      <td>1.0</td>\n",
       "      <td>0.38</td>\n",
       "    </tr>\n",
       "    <tr>\n",
       "      <th>1</th>\n",
       "      <td>GCA</td>\n",
       "      <td>A</td>\n",
       "      <td>0.29</td>\n",
       "      <td>1.0</td>\n",
       "      <td>0.29</td>\n",
       "    </tr>\n",
       "    <tr>\n",
       "      <th>2</th>\n",
       "      <td>GCC</td>\n",
       "      <td>A</td>\n",
       "      <td>0.22</td>\n",
       "      <td>1.0</td>\n",
       "      <td>0.22</td>\n",
       "    </tr>\n",
       "    <tr>\n",
       "      <th>3</th>\n",
       "      <td>GCG</td>\n",
       "      <td>A</td>\n",
       "      <td>0.11</td>\n",
       "      <td>1.0</td>\n",
       "      <td>0.11</td>\n",
       "    </tr>\n",
       "  </tbody>\n",
       "</table>\n",
       "</div>"
      ],
      "text/plain": [
       "  Codon AA  perc  sum  real_value\n",
       "0   GCU  A  0.38  1.0        0.38\n",
       "1   GCA  A  0.29  1.0        0.29\n",
       "2   GCC  A  0.22  1.0        0.22\n",
       "3   GCG  A  0.11  1.0        0.11"
      ]
     },
     "execution_count": 202,
     "metadata": {},
     "output_type": "execute_result"
    }
   ],
   "source": [
    "AA_A"
   ]
  },
  {
   "cell_type": "code",
   "execution_count": 192,
   "id": "3c8660be-f023-473e-9a28-a7149a5708bc",
   "metadata": {},
   "outputs": [
    {
     "data": {
      "text/html": [
       "<div>\n",
       "<style scoped>\n",
       "    .dataframe tbody tr th:only-of-type {\n",
       "        vertical-align: middle;\n",
       "    }\n",
       "\n",
       "    .dataframe tbody tr th {\n",
       "        vertical-align: top;\n",
       "    }\n",
       "\n",
       "    .dataframe thead th {\n",
       "        text-align: right;\n",
       "    }\n",
       "</style>\n",
       "<table border=\"1\" class=\"dataframe\">\n",
       "  <thead>\n",
       "    <tr style=\"text-align: right;\">\n",
       "      <th></th>\n",
       "      <th>Codon</th>\n",
       "      <th>AA</th>\n",
       "      <th>perc</th>\n",
       "      <th>sum</th>\n",
       "      <th>real_value</th>\n",
       "    </tr>\n",
       "  </thead>\n",
       "  <tbody>\n",
       "    <tr>\n",
       "      <th>10</th>\n",
       "      <td>AUG</td>\n",
       "      <td>M</td>\n",
       "      <td>1.0</td>\n",
       "      <td>1.0</td>\n",
       "      <td>1.0</td>\n",
       "    </tr>\n",
       "  </tbody>\n",
       "</table>\n",
       "</div>"
      ],
      "text/plain": [
       "   Codon AA  perc  sum  real_value\n",
       "10   AUG  M   1.0  1.0         1.0"
      ]
     },
     "execution_count": 192,
     "metadata": {},
     "output_type": "execute_result"
    }
   ],
   "source": []
  },
  {
   "cell_type": "code",
   "execution_count": null,
   "id": "d2c82fbb-65dd-4f1b-a06a-5882e6294263",
   "metadata": {},
   "outputs": [],
   "source": []
  }
 ],
 "metadata": {
  "kernelspec": {
   "display_name": "Python 3 (ipykernel)",
   "language": "python",
   "name": "python3"
  },
  "language_info": {
   "codemirror_mode": {
    "name": "ipython",
    "version": 3
   },
   "file_extension": ".py",
   "mimetype": "text/x-python",
   "name": "python",
   "nbconvert_exporter": "python",
   "pygments_lexer": "ipython3",
   "version": "3.9.12"
  }
 },
 "nbformat": 4,
 "nbformat_minor": 5
}
