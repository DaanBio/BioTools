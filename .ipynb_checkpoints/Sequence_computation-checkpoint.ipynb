{
 "cells": [
  {
   "cell_type": "code",
   "execution_count": 8,
   "id": "2eff61f8-031d-414a-a758-22c250a1fd25",
   "metadata": {},
   "outputs": [],
   "source": [
    "from Bio.Seq import Seq\n",
    "import numpy"
   ]
  },
  {
   "cell_type": "code",
   "execution_count": 11,
   "id": "e3c7076f-efa2-4638-b8cc-dc417da85ce9",
   "metadata": {},
   "outputs": [
    {
     "name": "stdin",
     "output_type": "stream",
     "text": [
      "Your sequence ACTG\n"
     ]
    },
    {
     "name": "stdout",
     "output_type": "stream",
     "text": [
      "CAGT\n",
      "TGAC\n"
     ]
    }
   ],
   "source": [
    "my_seq=Seq(input(\"Your sequence\"))\n",
    "my_seq_reverse_compliment=my_seq.reverse_complement()\n",
    "my_seq_compliment=my_seq.complement()\n",
    "print(my_seq_reverse_compliment)\n",
    "print(my_seq_compliment)"
   ]
  }
 ],
 "metadata": {
  "kernelspec": {
   "display_name": "Python 3 (ipykernel)",
   "language": "python",
   "name": "python3"
  },
  "language_info": {
   "codemirror_mode": {
    "name": "ipython",
    "version": 3
   },
   "file_extension": ".py",
   "mimetype": "text/x-python",
   "name": "python",
   "nbconvert_exporter": "python",
   "pygments_lexer": "ipython3",
   "version": "3.9.12"
  }
 },
 "nbformat": 4,
 "nbformat_minor": 5
}
